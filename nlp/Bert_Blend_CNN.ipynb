{
  "nbformat": 4,
  "nbformat_minor": 0,
  "metadata": {
    "colab": {
      "name": "Bert_Blend-CNN.ipynb",
      "provenance": []
    },
    "kernelspec": {
      "name": "python3",
      "display_name": "Python 3"
    },
    "language_info": {
      "name": "python"
    },
    "accelerator": "GPU"
  },
  "cells": [
    {
      "cell_type": "code",
      "metadata": {
        "id": "UahhCDlxtpWr"
      },
      "source": [
        "# -*- coding:utf-8 -*-\n",
        "# bert融合textcnn思想的Bert+Blend-CNN\n",
        "# model: Bert+Blend-CNN\n",
        "# date: 2021.10.11 18:06:11\n",
        "\n",
        "import os\n",
        "import numpy as np\n",
        "import pandas as pd\n",
        "import torch\n",
        "import torch.nn as nn\n",
        "import torch.utils.data as Data\n",
        "import torch.nn.functional as F\n",
        "import torch.optim as optim\n",
        "import transformers\n",
        "from transformers import AutoModel, AutoTokenizer\n",
        "import matplotlib.pyplot as plt"
      ],
      "execution_count": 62,
      "outputs": []
    },
    {
      "cell_type": "code",
      "metadata": {
        "id": "dL4eT_MTS9JY"
      },
      "source": [
        "train_curve = []\n",
        "device = torch.device('cuda' if torch.cuda.is_available() else 'cpu')"
      ],
      "execution_count": 63,
      "outputs": []
    },
    {
      "cell_type": "code",
      "metadata": {
        "id": "ZdVB3Lt6TAEs"
      },
      "source": [
        "# # 定义一些参数，模型选择了最基础的bert中文模型\n",
        "batch_size = 2\n",
        "epoches = 100\n",
        "model = \"bert-base-chinese\"\n",
        "hidden_size = 768\n",
        "n_class = 2\n",
        "maxlen = 8\n",
        "\n",
        "encode_layer=12\n",
        "filter_sizes = [2, 2, 2]\n",
        "num_filters = 3"
      ],
      "execution_count": 64,
      "outputs": []
    },
    {
      "cell_type": "code",
      "metadata": {
        "id": "gQ3SK8_rTFGX"
      },
      "source": [
        "# data，构造一些训练数据\n",
        "sentences = [\"我喜欢打篮球\", \"这个相机很好看\", \"今天玩的特别开心\", \"我不喜欢你\", \"太糟糕了\", \"真是件令人伤心的事情\"]\n",
        "labels = [1, 1, 1, 0, 0, 0]  # 1积极, 0消极."
      ],
      "execution_count": 65,
      "outputs": []
    },
    {
      "cell_type": "code",
      "metadata": {
        "id": "d8eBhZbDTJSz"
      },
      "source": [
        "class MyDataset(Data.Dataset):\n",
        "  def __init__(self, sentences, labels=None, with_labels=True,):\n",
        "    self.tokenizer = AutoTokenizer.from_pretrained(model)\n",
        "    self.with_labels = with_labels\n",
        "    self.sentences = sentences\n",
        "    self.labels = labels\n",
        "  def __len__(self):\n",
        "    return len(sentences)\n",
        "\n",
        "  def __getitem__(self, index):\n",
        "    # Selecting sentence1 and sentence2 at the specified index in the data frame\n",
        "    sent = self.sentences[index]\n",
        "\n",
        "    # Tokenize the pair of sentences to get token ids, attention masks and token type ids\n",
        "    encoded_pair = self.tokenizer(sent,\n",
        "                    padding='max_length',  # Pad to max_length\n",
        "                    truncation=True,       # Truncate to max_length\n",
        "                    max_length=maxlen,  \n",
        "                    return_tensors='pt')  # Return torch.Tensor objects\n",
        "\n",
        "    token_ids = encoded_pair['input_ids'].squeeze(0)  # tensor of token ids\n",
        "    attn_masks = encoded_pair['attention_mask'].squeeze(0)  # binary tensor with \"0\" for padded values and \"1\" for the other values\n",
        "    token_type_ids = encoded_pair['token_type_ids'].squeeze(0)  # binary tensor with \"0\" for the 1st sentence tokens & \"1\" for the 2nd sentence tokens\n",
        "\n",
        "    if self.with_labels:  # True if the dataset has labels\n",
        "      label = self.labels[index]\n",
        "      return token_ids, attn_masks, token_type_ids, label\n",
        "    else:\n",
        "      return token_ids, attn_masks, token_type_ids"
      ],
      "execution_count": 66,
      "outputs": []
    },
    {
      "cell_type": "code",
      "metadata": {
        "id": "q-fhfJi7xkXd"
      },
      "source": [
        "train = Data.DataLoader(dataset=MyDataset(sentences, labels), batch_size=batch_size, shuffle=True, num_workers=1)"
      ],
      "execution_count": 67,
      "outputs": []
    },
    {
      "cell_type": "code",
      "metadata": {
        "id": "aqjKaE6-UPE1"
      },
      "source": [
        "class TextCNN(nn.Module):\n",
        "  def __init__(self):\n",
        "    super(TextCNN, self).__init__()\n",
        "    self.num_filter_total = num_filters * len(filter_sizes)\n",
        "    self.Weight = nn.Linear(self.num_filter_total, n_class, bias=False)\n",
        "    self.bias = nn.Parameter(torch.ones([n_class]))\n",
        "    self.filter_list = nn.ModuleList([\n",
        "      nn.Conv2d(1, num_filters, kernel_size=(size, hidden_size)) for size in filter_sizes\n",
        "    ])\n",
        "\n",
        "  def forward(self, x):\n",
        "    # x: [bs, seq, hidden]\n",
        "    x = x.unsqueeze(1) # [bs, channel=1, seq, hidden]\n",
        "    \n",
        "    pooled_outputs = []\n",
        "    for i, conv in enumerate(self.filter_list):\n",
        "      h = F.relu(conv(x)) # [bs, channel=1, seq-kernel_size+1, 1]\n",
        "      mp = nn.MaxPool2d(\n",
        "        kernel_size = (encode_layer-filter_sizes[i]+1, 1)\n",
        "      )\n",
        "      # mp: [bs, channel=3, w, h]\n",
        "      pooled = mp(h).permute(0, 3, 2, 1) # [bs, h=1, w=1, channel=3]\n",
        "      pooled_outputs.append(pooled)\n",
        "    \n",
        "    h_pool = torch.cat(pooled_outputs, len(filter_sizes)) # [bs, h=1, w=1, channel=3 * 3]\n",
        "    h_pool_flat = torch.reshape(h_pool, [-1, self.num_filter_total])\n",
        "    \n",
        "    output = self.Weight(h_pool_flat) + self.bias # [bs, n_class]\n",
        "\n",
        "    return output"
      ],
      "execution_count": 68,
      "outputs": []
    },
    {
      "cell_type": "code",
      "metadata": {
        "id": "AAqolyEvTNYJ"
      },
      "source": [
        "# model\n",
        "class Bert_Blend_CNN(nn.Module):\n",
        "  def __init__(self):\n",
        "    super(Bert_Blend_CNN, self).__init__()\n",
        "    self.bert = AutoModel.from_pretrained(model, output_hidden_states=True, return_dict=True)\n",
        "    self.linear = nn.Linear(hidden_size, n_class)\n",
        "    self.textcnn = TextCNN()\n",
        "    \n",
        "  def forward(self, X):\n",
        "    input_ids, attention_mask, token_type_ids = X[0], X[1], X[2]\n",
        "    outputs = self.bert(input_ids=input_ids, attention_mask=attention_mask, token_type_ids=token_type_ids) # 返回一个output字典\n",
        "    # 取每一层encode出来的向量\n",
        "    # outputs.pooler_output: [bs, hidden_size]\n",
        "    hidden_states = outputs.hidden_states # 13*[bs, seq_len, hidden] 第一层是embedding层不需要\n",
        "    cls_embeddings = hidden_states[1][:, 0, :].unsqueeze(1) # [bs, 1, hidden]\n",
        "    # 将每一层的第一个token(cls向量)提取出来，拼在一起当作textcnn的输入\n",
        "    for i in range(2, 13):\n",
        "      cls_embeddings = torch.cat((cls_embeddings, hidden_states[i][:, 0, :].unsqueeze(1)), dim=1)\n",
        "    # cls_embeddings: [bs, encode_layer=12, hidden]\n",
        "    logits = self.textcnn(cls_embeddings)\n",
        "    return logits"
      ],
      "execution_count": 69,
      "outputs": []
    },
    {
      "cell_type": "code",
      "metadata": {
        "id": "_E6qpfSATZd1",
        "outputId": "baa36957-5382-42f5-b0d0-9d334070732b",
        "colab": {
          "base_uri": "https://localhost:8080/"
        }
      },
      "source": [
        "bert_blend_cnn = Bert_Blend_CNN().to(device)"
      ],
      "execution_count": 70,
      "outputs": [
        {
          "output_type": "stream",
          "name": "stderr",
          "text": [
            "Some weights of the model checkpoint at bert-base-chinese were not used when initializing BertModel: ['cls.predictions.transform.dense.bias', 'cls.seq_relationship.bias', 'cls.seq_relationship.weight', 'cls.predictions.bias', 'cls.predictions.decoder.weight', 'cls.predictions.transform.dense.weight', 'cls.predictions.transform.LayerNorm.bias', 'cls.predictions.transform.LayerNorm.weight']\n",
            "- This IS expected if you are initializing BertModel from the checkpoint of a model trained on another task or with another architecture (e.g. initializing a BertForSequenceClassification model from a BertForPreTraining model).\n",
            "- This IS NOT expected if you are initializing BertModel from the checkpoint of a model that you expect to be exactly identical (initializing a BertForSequenceClassification model from a BertForSequenceClassification model).\n"
          ]
        }
      ]
    },
    {
      "cell_type": "code",
      "metadata": {
        "id": "QblwR6DexAFe"
      },
      "source": [
        "optimizer = optim.Adam(bert_blend_cnn.parameters(), lr=1e-3, weight_decay=1e-2)\n",
        "loss_fn = nn.CrossEntropyLoss()"
      ],
      "execution_count": 71,
      "outputs": []
    },
    {
      "cell_type": "code",
      "metadata": {
        "id": "bBzQBHt8xbKm",
        "outputId": "a43c4a60-17af-4d63-f3c4-afd329aa8605",
        "colab": {
          "base_uri": "https://localhost:8080/"
        }
      },
      "source": [
        "# train\n",
        "sum_loss = 0\n",
        "total_step = len(train)\n",
        "for epoch in range(epoches):\n",
        "  for i, batch in enumerate(train):\n",
        "    optimizer.zero_grad()\n",
        "    batch = tuple(p.to(device) for p in batch)\n",
        "    pred = bert_blend_cnn([batch[0], batch[1], batch[2]])\n",
        "    loss = loss_fn(pred, batch[3])\n",
        "    sum_loss += loss.item()\n",
        "\n",
        "    loss.backward()\n",
        "    optimizer.step()\n",
        "    if epoch % 10 == 0:\n",
        "      print('[{}|{}] step:{}/{} loss:{:.4f}'.format(epoch+1, epoches, i+1, total_step, loss.item()))\n",
        "  train_curve.append(sum_loss)\n",
        "  sum_loss = 0"
      ],
      "execution_count": 72,
      "outputs": [
        {
          "output_type": "stream",
          "name": "stdout",
          "text": [
            "[1|100] step:1/3 loss:1.3587\n",
            "[1|100] step:2/3 loss:0.5860\n",
            "[1|100] step:3/3 loss:1.3804\n",
            "[11|100] step:1/3 loss:0.7330\n",
            "[11|100] step:2/3 loss:0.9912\n",
            "[11|100] step:3/3 loss:0.5007\n",
            "[21|100] step:1/3 loss:0.6944\n",
            "[21|100] step:2/3 loss:0.6947\n",
            "[21|100] step:3/3 loss:0.6936\n",
            "[31|100] step:1/3 loss:0.7441\n",
            "[31|100] step:2/3 loss:0.6923\n",
            "[31|100] step:3/3 loss:0.6735\n",
            "[41|100] step:1/3 loss:0.6875\n",
            "[41|100] step:2/3 loss:0.7020\n",
            "[41|100] step:3/3 loss:0.6898\n",
            "[51|100] step:1/3 loss:0.4228\n",
            "[51|100] step:2/3 loss:0.2038\n",
            "[51|100] step:3/3 loss:0.0154\n",
            "[61|100] step:1/3 loss:0.0064\n",
            "[61|100] step:2/3 loss:0.0058\n",
            "[61|100] step:3/3 loss:0.0060\n",
            "[71|100] step:1/3 loss:0.0039\n",
            "[71|100] step:2/3 loss:0.0036\n",
            "[71|100] step:3/3 loss:0.0039\n",
            "[81|100] step:1/3 loss:0.0021\n",
            "[81|100] step:2/3 loss:0.0020\n",
            "[81|100] step:3/3 loss:0.0020\n",
            "[91|100] step:1/3 loss:0.0029\n",
            "[91|100] step:2/3 loss:0.0025\n",
            "[91|100] step:3/3 loss:0.0256\n"
          ]
        }
      ]
    },
    {
      "cell_type": "code",
      "metadata": {
        "id": "QkDiBPY3xhxK",
        "outputId": "f1cfed2a-c23d-4d2e-8269-90c1437c7831",
        "colab": {
          "base_uri": "https://localhost:8080/"
        }
      },
      "source": [
        "# test\n",
        "bert_blend_cnn.eval()\n",
        "with torch.no_grad():\n",
        "  test_text = ['我不喜欢打篮球']\n",
        "  test = MyDataset(test_text, labels=None, with_labels=False)\n",
        "  x = test.__getitem__(0)\n",
        "  x = tuple(p.unsqueeze(0).to(device) for p in x)\n",
        "  pred = bert_blend_cnn([x[0], x[1], x[2]])\n",
        "  pred = pred.data.max(dim=1, keepdim=True)[1]\n",
        "  if pred[0][0] == 0:\n",
        "    print('消极')\n",
        "  else:\n",
        "    print('积极')"
      ],
      "execution_count": 74,
      "outputs": [
        {
          "output_type": "stream",
          "name": "stdout",
          "text": [
            "消极\n"
          ]
        }
      ]
    },
    {
      "cell_type": "code",
      "metadata": {
        "id": "qELdtXhu2qOw",
        "outputId": "b8bfc850-d8e8-4c5b-b624-7ae77b0b7bfb",
        "colab": {
          "base_uri": "https://localhost:8080/",
          "height": 283
        }
      },
      "source": [
        "pd.DataFrame(train_curve).plot() # loss曲线"
      ],
      "execution_count": 75,
      "outputs": [
        {
          "output_type": "execute_result",
          "data": {
            "text/plain": [
              "<matplotlib.axes._subplots.AxesSubplot at 0x7fee604a25d0>"
            ]
          },
          "metadata": {},
          "execution_count": 75
        },
        {
          "output_type": "display_data",
          "data": {
            "image/png": "[encoded data removed]",
            "text/plain": [
              "<Figure size 432x288 with 1 Axes>"
            ]
          },
          "metadata": {
            "needs_background": "light"
          }
        }
      ]
    },
    {
      "cell_type": "code",
      "metadata": {
        "id": "gIaPMvXe2wrS"
      },
      "source": [
        ""
      ],
      "execution_count": null,
      "outputs": []
    }
  ]
}