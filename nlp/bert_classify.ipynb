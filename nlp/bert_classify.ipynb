{
  "nbformat": 4,
  "nbformat_minor": 0,
  "metadata": {
    "colab": {
      "name": "bert_classify.ipynb",
      "provenance": []
    },
    "kernelspec": {
      "name": "python3",
      "display_name": "Python 3"
    },
    "language_info": {
      "name": "python"
    },
    "accelerator": "GPU"
  },
  "cells": [
    {
      "cell_type": "code",
      "metadata": {
        "id": "c3EUFvW1YZ23"
      },
      "source": [
        "# -*- coding:utf-8 -*-\n",
        "# bert文本分类baseline模型\n",
        "# model: bert\n",
        "# date: 2021.10.10 10:01\n",
        "\n",
        "import os\n",
        "import numpy as np\n",
        "import pandas as pd\n",
        "import torch\n",
        "import torch.nn as nn\n",
        "import torch.utils.data as Data\n",
        "import torch.optim as optim\n",
        "import transformers\n",
        "from transformers import AutoModel, AutoTokenizer\n",
        "import matplotlib.pyplot as plt"
      ],
      "execution_count": 38,
      "outputs": []
    },
    {
      "cell_type": "code",
      "metadata": {
        "id": "honSDblyKbxc"
      },
      "source": [
        "train_curve = []\n",
        "device = torch.device('cuda' if torch.cuda.is_available() else 'cpu')"
      ],
      "execution_count": 39,
      "outputs": []
    },
    {
      "cell_type": "code",
      "metadata": {
        "id": "hNAVAq8o7Xbs"
      },
      "source": [
        "batch_size = 2\n",
        "epoches = 100\n",
        "model = \"bert-base-chinese\"\n",
        "hidden_size = 768\n",
        "n_class = 2\n",
        "maxlen = 8"
      ],
      "execution_count": 40,
      "outputs": []
    },
    {
      "cell_type": "code",
      "metadata": {
        "id": "wiq4EFV9LKO1"
      },
      "source": [
        "# data\n",
        "sentences = [\"我喜欢打篮球\", \"这个相机很好看\", \"今天玩的特别开心\", \"我不喜欢你\", \"太糟糕了\", \"真是件令人伤心的事情\"]\n",
        "labels = [1, 1, 1, 0, 0, 0]  # 1积极, 0消极.\n",
        "\n",
        "# word_list = ' '.join(sentences).split()\n",
        "# word_list = list(set(word_list))\n",
        "# word_dict = {w: i for i, w in enumerate(word_list)}\n",
        "# num_dict = {i: w for w, i in word_dict.items()}\n",
        "# vocab_size = len(word_list)"
      ],
      "execution_count": 41,
      "outputs": []
    },
    {
      "cell_type": "code",
      "metadata": {
        "id": "xG31wox1EKVX"
      },
      "source": [
        "class MyDataset(Data.Dataset):\n",
        "  def __init__(self, sentences, labels=None, with_labels=True,):\n",
        "    self.tokenizer = AutoTokenizer.from_pretrained(model)\n",
        "    self.with_labels = with_labels\n",
        "    self.sentences = sentences\n",
        "    self.labels = labels\n",
        "  def __len__(self):\n",
        "    return len(sentences)\n",
        "\n",
        "  def __getitem__(self, index):\n",
        "    # Selecting sentence1 and sentence2 at the specified index in the data frame\n",
        "    sent = self.sentences[index]\n",
        "\n",
        "    # Tokenize the pair of sentences to get token ids, attention masks and token type ids\n",
        "    encoded_pair = self.tokenizer(sent,\n",
        "                    padding='max_length',  # Pad to max_length\n",
        "                    truncation=True,       # Truncate to max_length\n",
        "                    max_length=maxlen,  \n",
        "                    return_tensors='pt')  # Return torch.Tensor objects\n",
        "\n",
        "    token_ids = encoded_pair['input_ids'].squeeze(0)  # tensor of token ids\n",
        "    attn_masks = encoded_pair['attention_mask'].squeeze(0)  # binary tensor with \"0\" for padded values and \"1\" for the other values\n",
        "    token_type_ids = encoded_pair['token_type_ids'].squeeze(0)  # binary tensor with \"0\" for the 1st sentence tokens & \"1\" for the 2nd sentence tokens\n",
        "\n",
        "    if self.with_labels:  # True if the dataset has labels\n",
        "      label = self.labels[index]\n",
        "      return token_ids, attn_masks, token_type_ids, label\n",
        "    else:\n",
        "      return token_ids, attn_masks, token_type_ids"
      ],
      "execution_count": 42,
      "outputs": []
    },
    {
      "cell_type": "code",
      "metadata": {
        "id": "nMRNgixZLXLj"
      },
      "source": [
        "train = Data.DataLoader(dataset=MyDataset(sentences, labels), batch_size=batch_size, shuffle=True, num_workers=1)"
      ],
      "execution_count": 43,
      "outputs": []
    },
    {
      "cell_type": "code",
      "metadata": {
        "id": "u25BycPb8IhR"
      },
      "source": [
        "# model\n",
        "class BertClassify(nn.Module):\n",
        "  def __init__(self):\n",
        "    super(BertClassify, self).__init__()\n",
        "    self.bert = AutoModel.from_pretrained(model, output_hidden_states=True, return_dict=True)\n",
        "    self.linear = nn.Linear(hidden_size, n_class)\n",
        "    self.dropout = nn.Dropout(0.5)\n",
        "  \n",
        "  def forward(self, X):\n",
        "    input_ids, attention_mask, token_type_ids = X[0], X[1], X[2]\n",
        "    outputs = self.bert(input_ids=input_ids, attention_mask=attention_mask, token_type_ids=token_type_ids) # 返回一个output字典\n",
        "    # 用最后一层cls向量做分类\n",
        "    # outputs.pooler_output: [bs, hidden_size]\n",
        "    logits = self.linear(self.dropout(outputs.pooler_output))\n",
        "    \n",
        "    return logits"
      ],
      "execution_count": 44,
      "outputs": []
    },
    {
      "cell_type": "code",
      "metadata": {
        "colab": {
          "base_uri": "https://localhost:8080/"
        },
        "id": "DWmpHgE38dPM",
        "outputId": "2a0d44a5-0d89-4478-8f33-d0e326aeb1d8"
      },
      "source": [
        "bc = BertClassify().to(device)"
      ],
      "execution_count": 45,
      "outputs": [
        {
          "output_type": "stream",
          "name": "stderr",
          "text": [
            "Some weights of the model checkpoint at bert-base-chinese were not used when initializing BertModel: ['cls.predictions.bias', 'cls.seq_relationship.bias', 'cls.predictions.decoder.weight', 'cls.predictions.transform.dense.bias', 'cls.predictions.transform.dense.weight', 'cls.predictions.transform.LayerNorm.bias', 'cls.seq_relationship.weight', 'cls.predictions.transform.LayerNorm.weight']\n",
            "- This IS expected if you are initializing BertModel from the checkpoint of a model trained on another task or with another architecture (e.g. initializing a BertForSequenceClassification model from a BertForPreTraining model).\n",
            "- This IS NOT expected if you are initializing BertModel from the checkpoint of a model that you expect to be exactly identical (initializing a BertForSequenceClassification model from a BertForSequenceClassification model).\n"
          ]
        }
      ]
    },
    {
      "cell_type": "code",
      "metadata": {
        "id": "oKn15V6oKG2B"
      },
      "source": [
        "optimizer = optim.Adam(bc.parameters(), lr=1e-3, weight_decay=1e-2)\n",
        "loss_fn = nn.CrossEntropyLoss()"
      ],
      "execution_count": 46,
      "outputs": []
    },
    {
      "cell_type": "code",
      "metadata": {
        "colab": {
          "base_uri": "https://localhost:8080/"
        },
        "id": "sFFxX8t2C4G0",
        "outputId": "38cff6f7-c1a9-48fb-ad18-dd28626382ca"
      },
      "source": [
        "# train\n",
        "sum_loss = 0\n",
        "total_step = len(train)\n",
        "for epoch in range(epoches):\n",
        "  for i, batch in enumerate(train):\n",
        "    optimizer.zero_grad()\n",
        "    batch = tuple(p.to(device) for p in batch)\n",
        "    pred = bc([batch[0], batch[1], batch[2]])\n",
        "    loss = loss_fn(pred, batch[3])\n",
        "    sum_loss += loss.item()\n",
        "\n",
        "    loss.backward()\n",
        "    optimizer.step()\n",
        "    if epoch % 10 == 0:\n",
        "      print('[{}|{}] step:{}/{} loss:{:.4f}'.format(epoch+1, epoches, i+1, total_step, loss.item()))\n",
        "  train_curve.append(sum_loss)\n",
        "  sum_loss = 0"
      ],
      "execution_count": 47,
      "outputs": [
        {
          "output_type": "stream",
          "name": "stdout",
          "text": [
            "[1|100] step:1/3 loss:1.1500\n",
            "[1|100] step:2/3 loss:1.2046\n",
            "[1|100] step:3/3 loss:2.5194\n",
            "[11|100] step:1/3 loss:1.1471\n",
            "[11|100] step:2/3 loss:0.7017\n",
            "[11|100] step:3/3 loss:0.8367\n",
            "[21|100] step:1/3 loss:1.0529\n",
            "[21|100] step:2/3 loss:1.4519\n",
            "[21|100] step:3/3 loss:1.4188\n",
            "[31|100] step:1/3 loss:1.2525\n",
            "[31|100] step:2/3 loss:1.2894\n",
            "[31|100] step:3/3 loss:0.6796\n",
            "[41|100] step:1/3 loss:1.2206\n",
            "[41|100] step:2/3 loss:0.7903\n",
            "[41|100] step:3/3 loss:0.9456\n",
            "[51|100] step:1/3 loss:0.4095\n",
            "[51|100] step:2/3 loss:0.4227\n",
            "[51|100] step:3/3 loss:1.7919\n",
            "[61|100] step:1/3 loss:2.2079\n",
            "[61|100] step:2/3 loss:1.0230\n",
            "[61|100] step:3/3 loss:1.0512\n",
            "[71|100] step:1/3 loss:0.5453\n",
            "[71|100] step:2/3 loss:0.2571\n",
            "[71|100] step:3/3 loss:1.0071\n",
            "[81|100] step:1/3 loss:1.1741\n",
            "[81|100] step:2/3 loss:0.6857\n",
            "[81|100] step:3/3 loss:0.2532\n",
            "[91|100] step:1/3 loss:0.5687\n",
            "[91|100] step:2/3 loss:0.4335\n",
            "[91|100] step:3/3 loss:0.8573\n"
          ]
        }
      ]
    },
    {
      "cell_type": "code",
      "metadata": {
        "colab": {
          "base_uri": "https://localhost:8080/"
        },
        "id": "y03sGa73O-Xb",
        "outputId": "b2b0f256-c55e-42c7-b9e1-121823ba5f67"
      },
      "source": [
        "# test\n",
        "bc.eval()\n",
        "with torch.no_grad():\n",
        "  test_text = ['我不喜欢打篮球']\n",
        "  test = MyDataset(test_text, labels=None, with_labels=False)\n",
        "  x = test.__getitem__(0)\n",
        "  x = tuple(p.unsqueeze(0).to(device) for p in x)\n",
        "  pred = bc([x[0], x[1], x[2]])\n",
        "  pred = pred.data.max(dim=1, keepdim=True)[1]\n",
        "  if pred[0][0] == 0:\n",
        "    print('消极')\n",
        "  else:\n",
        "    print('积极')"
      ],
      "execution_count": 52,
      "outputs": [
        {
          "output_type": "stream",
          "name": "stdout",
          "text": [
            "消极\n"
          ]
        }
      ]
    },
    {
      "cell_type": "code",
      "metadata": {
        "colab": {
          "base_uri": "https://localhost:8080/",
          "height": 285
        },
        "id": "u_d5OUCPSXgH",
        "outputId": "d266ed38-b7fa-4590-8640-c828d255ece6"
      },
      "source": [
        "pd.DataFrame(train_curve).plot() # loss曲线"
      ],
      "execution_count": 51,
      "outputs": [
        {
          "output_type": "execute_result",
          "data": {
            "text/plain": [
              "<matplotlib.axes._subplots.AxesSubplot at 0x7f147ab95e50>"
            ]
          },
          "metadata": {},
          "execution_count": 51
        },
        {
          "output_type": "display_data",
          "data": {
            "image/png": "[encoded data removed]",
            "text/plain": [
              "<Figure size 432x288 with 1 Axes>"
            ]
          },
          "metadata": {
            "needs_background": "light"
          }
        }
      ]
    },
    {
      "cell_type": "code",
      "metadata": {
        "id": "Tlda0rBjX0vN"
      },
      "source": [
        ""
      ],
      "execution_count": null,
      "outputs": []
    }
  ]
}