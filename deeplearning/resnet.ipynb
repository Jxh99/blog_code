{
  "nbformat": 4,
  "nbformat_minor": 0,
  "metadata": {
    "colab": {
      "name": "resnet.ipynb",
      "provenance": []
    },
    "kernelspec": {
      "name": "python3",
      "display_name": "Python 3"
    },
    "language_info": {
      "name": "python"
    },
    "accelerator": "GPU"
  },
  "cells": [
    {
      "cell_type": "code",
      "metadata": {
        "id": "sSw_-JAWi_nk"
      },
      "source": [
        "# -*- coding:utf-8 -*-\n",
        "# handwritten digits recognition\n",
        "# Data: MINIST\n",
        "# model: resnet\n",
        "# date: 2021.10.8 14:18\n",
        "\n",
        "import math\n",
        "import torch\n",
        "import torchvision\n",
        "import torchvision.transforms as transforms\n",
        "import torch.nn as nn\n",
        "import torch.utils.data as Data\n",
        "import torch.optim as optim\n",
        "import pandas as pd\n",
        "import matplotlib.pyplot as plt"
      ],
      "execution_count": 1,
      "outputs": []
    },
    {
      "cell_type": "code",
      "metadata": {
        "id": "wAMLAt-7jlnL"
      },
      "source": [
        "train_curve = []\n",
        "device = torch.device('cuda' if torch.cuda.is_available() else 'cpu')"
      ],
      "execution_count": 2,
      "outputs": []
    },
    {
      "cell_type": "code",
      "metadata": {
        "id": "MjTOGiQaqw4A"
      },
      "source": [
        "# param\n",
        "batch_size = 100\n",
        "n_class = 10\n",
        "padding_size = 15\n",
        "epoches = 10"
      ],
      "execution_count": 20,
      "outputs": []
    },
    {
      "cell_type": "code",
      "metadata": {
        "id": "Pz0nsjE-jwVt"
      },
      "source": [
        "train_dataset = torchvision.datasets.MNIST('./data/', train=True, transform=transforms.ToTensor(), download=True)\n",
        "test_dataset = torchvision.datasets.MNIST('./data/', train=False, transform=transforms.ToTensor(), download=False)\n",
        "train = Data.DataLoader(dataset=train_dataset, batch_size=batch_size, shuffle=True, num_workers=5)\n",
        "test = Data.DataLoader(dataset=test_dataset, batch_size=batch_size, shuffle=False, num_workers=5)"
      ],
      "execution_count": null,
      "outputs": []
    },
    {
      "cell_type": "code",
      "metadata": {
        "id": "5t9GsIw5CCBx"
      },
      "source": [
        "def gelu(x):\n",
        "  \"Implementation of the gelu activation function by Hugging Face\"\n",
        "  return x * 0.5 * (1.0 + torch.erf(x / math.sqrt(2.0)))"
      ],
      "execution_count": 5,
      "outputs": []
    },
    {
      "cell_type": "code",
      "metadata": {
        "id": "VHOBzUgztqQE"
      },
      "source": [
        "class ResBlock(nn.Module):\n",
        "  def __init__(self, in_size, out_size1, out_size2):\n",
        "    super(ResBlock, self).__init__()\n",
        "    self.conv1 = nn.Conv2d(\n",
        "        in_channels = in_size,\n",
        "        out_channels = out_size1,\n",
        "        kernel_size = 3,\n",
        "        stride = 2,\n",
        "        padding = padding_size\n",
        "    )\n",
        "    self.conv2 = nn.Conv2d(\n",
        "        in_channels = out_size1,\n",
        "        out_channels = out_size2,\n",
        "        kernel_size = 3,\n",
        "        stride = 2,\n",
        "        padding = padding_size\n",
        "    )\n",
        "    self.batchnorm1 = nn.BatchNorm2d(out_size1)\n",
        "    self.batchnorm2 = nn.BatchNorm2d(out_size2)\n",
        "  \n",
        "  def conv(self, x):\n",
        "    x = gelu(self.batchnorm1(self.conv1(x)))\n",
        "    x = gelu(self.batchnorm2(self.conv2(x)))\n",
        "    return x\n",
        "  \n",
        "  def forward(self, x):\n",
        "    return x + self.conv(x)"
      ],
      "execution_count": 6,
      "outputs": []
    },
    {
      "cell_type": "code",
      "metadata": {
        "id": "rWj7lSNRqj7a"
      },
      "source": [
        "# resnet\n",
        "class Resnet(nn.Module):\n",
        "  def __init__(self, n_class = n_class):\n",
        "    super(Resnet, self).__init__()\n",
        "    self.res1 = ResBlock(1, 8, 16)\n",
        "    self.res2 = ResBlock(16, 32, 16)\n",
        "    self.conv = nn.Conv2d(\n",
        "        in_channels = 16,\n",
        "        out_channels = n_class,\n",
        "        kernel_size = 3,\n",
        "        stride = 2,\n",
        "        padding = padding_size\n",
        "    )\n",
        "    self.batchnorm = nn.BatchNorm2d(n_class)\n",
        "    self.max_pooling = nn.AdaptiveAvgPool2d(1)\n",
        "\n",
        "  def forward(self, x):\n",
        "    x = x.view(-1, 1, 28, 28)\n",
        "    x = self.res1(x)\n",
        "    x = self.res2(x)\n",
        "    x = self.max_pooling(self.batchnorm(self.conv(x)))\n",
        "\n",
        "    return x.view(x.size(0), -1)\n"
      ],
      "execution_count": 7,
      "outputs": []
    },
    {
      "cell_type": "code",
      "metadata": {
        "colab": {
          "base_uri": "https://localhost:8080/"
        },
        "id": "jk63HsdJ5Pv_",
        "outputId": "d1a36e02-2bc5-46c1-ab8d-cf04ef5b3e3f"
      },
      "source": [
        "resnet = Resnet().to(device)\n",
        "resnet"
      ],
      "execution_count": 11,
      "outputs": [
        {
          "output_type": "execute_result",
          "data": {
            "text/plain": [
              "Resnet(\n",
              "  (res1): ResBlock(\n",
              "    (conv1): Conv2d(1, 8, kernel_size=(3, 3), stride=(2, 2), padding=(15, 15))\n",
              "    (conv2): Conv2d(8, 16, kernel_size=(3, 3), stride=(2, 2), padding=(15, 15))\n",
              "    (batchnorm1): BatchNorm2d(8, eps=1e-05, momentum=0.1, affine=True, track_running_stats=True)\n",
              "    (batchnorm2): BatchNorm2d(16, eps=1e-05, momentum=0.1, affine=True, track_running_stats=True)\n",
              "  )\n",
              "  (res2): ResBlock(\n",
              "    (conv1): Conv2d(16, 32, kernel_size=(3, 3), stride=(2, 2), padding=(15, 15))\n",
              "    (conv2): Conv2d(32, 16, kernel_size=(3, 3), stride=(2, 2), padding=(15, 15))\n",
              "    (batchnorm1): BatchNorm2d(32, eps=1e-05, momentum=0.1, affine=True, track_running_stats=True)\n",
              "    (batchnorm2): BatchNorm2d(16, eps=1e-05, momentum=0.1, affine=True, track_running_stats=True)\n",
              "  )\n",
              "  (conv): Conv2d(16, 10, kernel_size=(3, 3), stride=(2, 2), padding=(15, 15))\n",
              "  (batchnorm): BatchNorm2d(10, eps=1e-05, momentum=0.1, affine=True, track_running_stats=True)\n",
              "  (max_pooling): AdaptiveAvgPool2d(output_size=1)\n",
              ")"
            ]
          },
          "metadata": {},
          "execution_count": 11
        }
      ]
    },
    {
      "cell_type": "code",
      "metadata": {
        "id": "br_L1zb65YZr"
      },
      "source": [
        "loss_fn = nn.CrossEntropyLoss()\n",
        "optimizer = optim.SGD(params=resnet.parameters(), lr=1e-2, momentum=0.9)"
      ],
      "execution_count": 16,
      "outputs": []
    },
    {
      "cell_type": "code",
      "metadata": {
        "colab": {
          "base_uri": "https://localhost:8080/"
        },
        "id": "2_DGwLWC6x4p",
        "outputId": "d0a9cc2d-a12a-4e15-972b-2a7bd1bef09d"
      },
      "source": [
        "# train\n",
        "total_step = len(train)\n",
        "sum_loss = 0\n",
        "for epoch in range(epoches):\n",
        "  for i, (images, targets) in enumerate(train):\n",
        "    optimizer.zero_grad()\n",
        "    images = images.to(device)\n",
        "    targets = targets.to(device)\n",
        "    preds = resnet(images)\n",
        "    \n",
        "    loss = loss_fn(preds, targets)\n",
        "    sum_loss += loss.item()\n",
        "    loss.backward()\n",
        "    optimizer.step()\n",
        "    if (i+1)%100==0:\n",
        "      print('[{}|{}] step:{}/{} loss:{:.4f}'.format(epoch+1, epoches, i+1, total_step, loss.item()))\n",
        "  train_curve.append(sum_loss)\n",
        "  sum_loss = 0\n",
        "    "
      ],
      "execution_count": 22,
      "outputs": [
        {
          "output_type": "stream",
          "name": "stderr",
          "text": [
            "/usr/local/lib/python3.7/dist-packages/torch/utils/data/dataloader.py:481: UserWarning: This DataLoader will create 5 worker processes in total. Our suggested max number of worker in current system is 2, which is smaller than what this DataLoader is going to create. Please be aware that excessive worker creation might get DataLoader running slow or even freeze, lower the worker number to avoid potential slowness/freeze if necessary.\n",
            "  cpuset_checked))\n"
          ]
        },
        {
          "output_type": "stream",
          "name": "stdout",
          "text": [
            "[1|10] step:100/600 loss:0.0104\n",
            "[1|10] step:200/600 loss:0.0106\n",
            "[1|10] step:300/600 loss:0.0732\n",
            "[1|10] step:400/600 loss:0.0317\n",
            "[1|10] step:500/600 loss:0.1365\n",
            "[1|10] step:600/600 loss:0.0139\n",
            "[2|10] step:100/600 loss:0.1351\n",
            "[2|10] step:200/600 loss:0.0275\n",
            "[2|10] step:300/600 loss:0.0894\n",
            "[2|10] step:400/600 loss:0.0616\n",
            "[2|10] step:500/600 loss:0.0297\n",
            "[2|10] step:600/600 loss:0.0832\n",
            "[3|10] step:100/600 loss:0.0885\n",
            "[3|10] step:200/600 loss:0.0124\n",
            "[3|10] step:300/600 loss:0.0781\n",
            "[3|10] step:400/600 loss:0.0477\n",
            "[3|10] step:500/600 loss:0.0048\n",
            "[3|10] step:600/600 loss:0.0412\n",
            "[4|10] step:100/600 loss:0.0146\n",
            "[4|10] step:200/600 loss:0.0193\n",
            "[4|10] step:300/600 loss:0.0526\n",
            "[4|10] step:400/600 loss:0.0025\n",
            "[4|10] step:500/600 loss:0.0876\n",
            "[4|10] step:600/600 loss:0.0551\n",
            "[5|10] step:100/600 loss:0.0240\n",
            "[5|10] step:200/600 loss:0.0036\n",
            "[5|10] step:300/600 loss:0.0077\n",
            "[5|10] step:400/600 loss:0.0169\n",
            "[5|10] step:500/600 loss:0.0079\n",
            "[5|10] step:600/600 loss:0.0342\n",
            "[6|10] step:100/600 loss:0.0029\n",
            "[6|10] step:200/600 loss:0.0772\n",
            "[6|10] step:300/600 loss:0.0368\n",
            "[6|10] step:400/600 loss:0.0408\n",
            "[6|10] step:500/600 loss:0.0082\n",
            "[6|10] step:600/600 loss:0.0354\n",
            "[7|10] step:100/600 loss:0.0042\n",
            "[7|10] step:200/600 loss:0.0313\n",
            "[7|10] step:300/600 loss:0.0376\n",
            "[7|10] step:400/600 loss:0.0500\n",
            "[7|10] step:500/600 loss:0.0020\n",
            "[7|10] step:600/600 loss:0.0330\n",
            "[8|10] step:100/600 loss:0.0175\n",
            "[8|10] step:200/600 loss:0.0473\n",
            "[8|10] step:300/600 loss:0.0029\n",
            "[8|10] step:400/600 loss:0.0147\n",
            "[8|10] step:500/600 loss:0.0300\n",
            "[8|10] step:600/600 loss:0.0006\n",
            "[9|10] step:100/600 loss:0.0401\n",
            "[9|10] step:200/600 loss:0.0286\n",
            "[9|10] step:300/600 loss:0.0258\n",
            "[9|10] step:400/600 loss:0.0167\n",
            "[9|10] step:500/600 loss:0.0201\n",
            "[9|10] step:600/600 loss:0.0574\n",
            "[10|10] step:100/600 loss:0.0066\n",
            "[10|10] step:200/600 loss:0.0097\n",
            "[10|10] step:300/600 loss:0.0616\n",
            "[10|10] step:400/600 loss:0.0515\n",
            "[10|10] step:500/600 loss:0.0019\n",
            "[10|10] step:600/600 loss:0.0381\n"
          ]
        }
      ]
    },
    {
      "cell_type": "code",
      "metadata": {
        "colab": {
          "base_uri": "https://localhost:8080/"
        },
        "id": "qbngK_gf9RBl",
        "outputId": "cdbcda1b-3562-48fd-b52e-a77e141e4d22"
      },
      "source": [
        "# test\n",
        "resnet.eval()\n",
        "with torch.no_grad():\n",
        "  correct = 0\n",
        "  total = 0\n",
        "  for images, labels in test:\n",
        "    images = images.to(device)\n",
        "    labels = labels.to(device)\n",
        "    outputs = resnet(images)\n",
        "    _, maxIndexes = torch.max(outputs, dim=1)\n",
        "    correct += (maxIndexes==labels).sum().item()\n",
        "    total += labels.size(0)\n",
        "  \n",
        "  print('in 1w test_data correct rate = {:.4f}'.format((correct/total)*100))"
      ],
      "execution_count": 23,
      "outputs": [
        {
          "output_type": "stream",
          "name": "stderr",
          "text": [
            "/usr/local/lib/python3.7/dist-packages/torch/utils/data/dataloader.py:481: UserWarning: This DataLoader will create 5 worker processes in total. Our suggested max number of worker in current system is 2, which is smaller than what this DataLoader is going to create. Please be aware that excessive worker creation might get DataLoader running slow or even freeze, lower the worker number to avoid potential slowness/freeze if necessary.\n",
            "  cpuset_checked))\n"
          ]
        },
        {
          "output_type": "stream",
          "name": "stdout",
          "text": [
            "in 1w test_data correct rate = 98.5100\n"
          ]
        }
      ]
    },
    {
      "cell_type": "code",
      "metadata": {
        "colab": {
          "base_uri": "https://localhost:8080/",
          "height": 283
        },
        "id": "418J4zPhBlu6",
        "outputId": "041cfecc-0197-40fa-c716-3a1505515baf"
      },
      "source": [
        "pd.DataFrame(train_curve).plot() # loss曲线"
      ],
      "execution_count": 24,
      "outputs": [
        {
          "output_type": "execute_result",
          "data": {
            "text/plain": [
              "<matplotlib.axes._subplots.AxesSubplot at 0x7f046fd61950>"
            ]
          },
          "metadata": {},
          "execution_count": 24
        },
        {
          "output_type": "display_data",
          "data": {
            "image/png": "[encoded data removed]",
            "text/plain": [
              "<Figure size 432x288 with 1 Axes>"
            ]
          },
          "metadata": {
            "needs_background": "light"
          }
        }
      ]
    }
  ]
}